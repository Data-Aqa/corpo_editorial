{
 "cells": [
  {
   "cell_type": "markdown",
   "id": "2875170b",
   "metadata": {},
   "source": [
    "<img scr = 'datalogo.png'>"
   ]
  },
  {
   "cell_type": "markdown",
   "id": "c055fe78",
   "metadata": {},
   "source": [
    "#  Teste de estacionariedade com Python\n",
    "<br>\n",
    "Ao trabalhar com dados de séries temporais é preciso distinguir se tal conjunto de dados é estacionário ou não. Quando trabalhamos com dados não estacionários, de acordo com Bueno (2008), é impossível realizar inferência estatística. Ao estimar um modelo com observações não estacionárias, mesmo que obtenha-se números altos no R², os resultados não irão ter sentido, trata-se de uma regressão espúria. Para evitar tal problema é necessário passar a base de dados por alguns testes e, após isso, estimar seu modelo. No presente notebook será apresentado o testes de Dickey-Fuller Aumentado."
   ]
  },
  {
   "cell_type": "markdown",
   "id": "8698adcd",
   "metadata": {},
   "source": [
    "- Teste ADF \n",
    "- Testes com tendência"
   ]
  },
  {
   "cell_type": "markdown",
   "id": "6e356665",
   "metadata": {},
   "source": [
    "## Importando e limpando os dados"
   ]
  },
  {
   "cell_type": "code",
   "execution_count": 1,
   "id": "52c1c54b",
   "metadata": {},
   "outputs": [],
   "source": [
    "#bibliotecas utilizadas\n",
    "import pandas as pd #dataframes e tratamento\n",
    "import matplotlib.pyplot as plt #visualização de dados\n",
    "import seaborn as sns #visualização de dados\n",
    "from statsmodels.tsa.stattools import adfuller #teste Dickey-Fyller aumentado\n",
    "from dateutil.relativedelta import relativedelta #para arrumar as datas da base de dados\n",
    "import datetime #para arrumar as datas da base de dados"
   ]
  },
  {
   "cell_type": "code",
   "execution_count": 2,
   "id": "63d66d8a",
   "metadata": {},
   "outputs": [],
   "source": [
    "df = pd.read_csv('dados2.csv', sep = ';')"
   ]
  },
  {
   "cell_type": "code",
   "execution_count": 3,
   "id": "3ecb0572",
   "metadata": {},
   "outputs": [
    {
     "data": {
      "text/html": [
       "<div>\n",
       "<style scoped>\n",
       "    .dataframe tbody tr th:only-of-type {\n",
       "        vertical-align: middle;\n",
       "    }\n",
       "\n",
       "    .dataframe tbody tr th {\n",
       "        vertical-align: top;\n",
       "    }\n",
       "\n",
       "    .dataframe thead th {\n",
       "        text-align: right;\n",
       "    }\n",
       "</style>\n",
       "<table border=\"1\" class=\"dataframe\">\n",
       "  <thead>\n",
       "    <tr style=\"text-align: right;\">\n",
       "      <th></th>\n",
       "      <th>Data</th>\n",
       "      <th>Taxa de câmbio</th>\n",
       "      <th>Taxa Selic</th>\n",
       "      <th>varIPCA</th>\n",
       "    </tr>\n",
       "  </thead>\n",
       "  <tbody>\n",
       "    <tr>\n",
       "      <th>0</th>\n",
       "      <td>fev/99</td>\n",
       "      <td>2,064</td>\n",
       "      <td>2,38</td>\n",
       "      <td>1,044640018</td>\n",
       "    </tr>\n",
       "    <tr>\n",
       "      <th>1</th>\n",
       "      <td>mar/99</td>\n",
       "      <td>1,7212</td>\n",
       "      <td>3,33</td>\n",
       "      <td>1,093852018</td>\n",
       "    </tr>\n",
       "    <tr>\n",
       "      <th>2</th>\n",
       "      <td>abr/99</td>\n",
       "      <td>1,6599</td>\n",
       "      <td>2,35</td>\n",
       "      <td>0,558382147</td>\n",
       "    </tr>\n",
       "    <tr>\n",
       "      <th>3</th>\n",
       "      <td>mai/99</td>\n",
       "      <td>1,7232</td>\n",
       "      <td>2,02</td>\n",
       "      <td>0,299838391</td>\n",
       "    </tr>\n",
       "    <tr>\n",
       "      <th>4</th>\n",
       "      <td>jun/99</td>\n",
       "      <td>1,7687</td>\n",
       "      <td>1,67</td>\n",
       "      <td>0,189499665</td>\n",
       "    </tr>\n",
       "    <tr>\n",
       "      <th>...</th>\n",
       "      <td>...</td>\n",
       "      <td>...</td>\n",
       "      <td>...</td>\n",
       "      <td>...</td>\n",
       "    </tr>\n",
       "    <tr>\n",
       "      <th>270</th>\n",
       "      <td>ago/21</td>\n",
       "      <td>5,1427</td>\n",
       "      <td>0,43</td>\n",
       "      <td>0,866225072</td>\n",
       "    </tr>\n",
       "    <tr>\n",
       "      <th>271</th>\n",
       "      <td>set/21</td>\n",
       "      <td>5,4388</td>\n",
       "      <td>0,44</td>\n",
       "      <td>1,153286907</td>\n",
       "    </tr>\n",
       "    <tr>\n",
       "      <th>272</th>\n",
       "      <td>out/21</td>\n",
       "      <td>5,6424</td>\n",
       "      <td>0,49</td>\n",
       "      <td>1,242208384</td>\n",
       "    </tr>\n",
       "    <tr>\n",
       "      <th>273</th>\n",
       "      <td>nov/21</td>\n",
       "      <td>5,6193</td>\n",
       "      <td>0,59</td>\n",
       "      <td>0,945584264</td>\n",
       "    </tr>\n",
       "    <tr>\n",
       "      <th>274</th>\n",
       "      <td>dez/21</td>\n",
       "      <td>5,5799</td>\n",
       "      <td>0,77</td>\n",
       "      <td>0,727306943</td>\n",
       "    </tr>\n",
       "  </tbody>\n",
       "</table>\n",
       "<p>275 rows × 4 columns</p>\n",
       "</div>"
      ],
      "text/plain": [
       "       Data Taxa de câmbio Taxa Selic      varIPCA\n",
       "0    fev/99          2,064       2,38  1,044640018\n",
       "1    mar/99         1,7212       3,33  1,093852018\n",
       "2    abr/99         1,6599       2,35  0,558382147\n",
       "3    mai/99         1,7232       2,02  0,299838391\n",
       "4    jun/99         1,7687       1,67  0,189499665\n",
       "..      ...            ...        ...          ...\n",
       "270  ago/21         5,1427       0,43  0,866225072\n",
       "271  set/21         5,4388       0,44  1,153286907\n",
       "272  out/21         5,6424       0,49  1,242208384\n",
       "273  nov/21         5,6193       0,59  0,945584264\n",
       "274  dez/21         5,5799       0,77  0,727306943\n",
       "\n",
       "[275 rows x 4 columns]"
      ]
     },
     "execution_count": 3,
     "metadata": {},
     "output_type": "execute_result"
    }
   ],
   "source": [
    "df"
   ]
  },
  {
   "cell_type": "code",
   "execution_count": 4,
   "id": "39c8c010",
   "metadata": {},
   "outputs": [],
   "source": [
    "#formato datetime no dataframe\n",
    "inicio_date = datetime.date(1999, 1, 1)\n",
    "fim_date = datetime.date(2021, 12, 1)\n",
    "delta = relativedelta(months=1)\n",
    "datas = []\n",
    "while (inicio_date <= fim_date):\n",
    "    datas.append(inicio_date)\n",
    "    inicio_date += delta\n",
    "for registro in range(len(df)):\n",
    "    df.loc[registro, 'datetime'] = datas[registro]\n",
    "\n",
    "df = df.set_index('datetime')\n",
    "df1 = df.drop(columns=['Data'])"
   ]
  },
  {
   "cell_type": "code",
   "execution_count": 5,
   "id": "bd19e1ae",
   "metadata": {},
   "outputs": [
    {
     "data": {
      "text/html": [
       "<div>\n",
       "<style scoped>\n",
       "    .dataframe tbody tr th:only-of-type {\n",
       "        vertical-align: middle;\n",
       "    }\n",
       "\n",
       "    .dataframe tbody tr th {\n",
       "        vertical-align: top;\n",
       "    }\n",
       "\n",
       "    .dataframe thead th {\n",
       "        text-align: right;\n",
       "    }\n",
       "</style>\n",
       "<table border=\"1\" class=\"dataframe\">\n",
       "  <thead>\n",
       "    <tr style=\"text-align: right;\">\n",
       "      <th></th>\n",
       "      <th>Taxa de câmbio</th>\n",
       "      <th>Taxa Selic</th>\n",
       "      <th>varIPCA</th>\n",
       "    </tr>\n",
       "    <tr>\n",
       "      <th>datetime</th>\n",
       "      <th></th>\n",
       "      <th></th>\n",
       "      <th></th>\n",
       "    </tr>\n",
       "  </thead>\n",
       "  <tbody>\n",
       "    <tr>\n",
       "      <th>1999-01-01</th>\n",
       "      <td>2,064</td>\n",
       "      <td>2,38</td>\n",
       "      <td>1,044640018</td>\n",
       "    </tr>\n",
       "    <tr>\n",
       "      <th>1999-02-01</th>\n",
       "      <td>1,7212</td>\n",
       "      <td>3,33</td>\n",
       "      <td>1,093852018</td>\n",
       "    </tr>\n",
       "    <tr>\n",
       "      <th>1999-03-01</th>\n",
       "      <td>1,6599</td>\n",
       "      <td>2,35</td>\n",
       "      <td>0,558382147</td>\n",
       "    </tr>\n",
       "    <tr>\n",
       "      <th>1999-04-01</th>\n",
       "      <td>1,7232</td>\n",
       "      <td>2,02</td>\n",
       "      <td>0,299838391</td>\n",
       "    </tr>\n",
       "    <tr>\n",
       "      <th>1999-05-01</th>\n",
       "      <td>1,7687</td>\n",
       "      <td>1,67</td>\n",
       "      <td>0,189499665</td>\n",
       "    </tr>\n",
       "    <tr>\n",
       "      <th>...</th>\n",
       "      <td>...</td>\n",
       "      <td>...</td>\n",
       "      <td>...</td>\n",
       "    </tr>\n",
       "    <tr>\n",
       "      <th>2021-07-01</th>\n",
       "      <td>5,1427</td>\n",
       "      <td>0,43</td>\n",
       "      <td>0,866225072</td>\n",
       "    </tr>\n",
       "    <tr>\n",
       "      <th>2021-08-01</th>\n",
       "      <td>5,4388</td>\n",
       "      <td>0,44</td>\n",
       "      <td>1,153286907</td>\n",
       "    </tr>\n",
       "    <tr>\n",
       "      <th>2021-09-01</th>\n",
       "      <td>5,6424</td>\n",
       "      <td>0,49</td>\n",
       "      <td>1,242208384</td>\n",
       "    </tr>\n",
       "    <tr>\n",
       "      <th>2021-10-01</th>\n",
       "      <td>5,6193</td>\n",
       "      <td>0,59</td>\n",
       "      <td>0,945584264</td>\n",
       "    </tr>\n",
       "    <tr>\n",
       "      <th>2021-11-01</th>\n",
       "      <td>5,5799</td>\n",
       "      <td>0,77</td>\n",
       "      <td>0,727306943</td>\n",
       "    </tr>\n",
       "  </tbody>\n",
       "</table>\n",
       "<p>275 rows × 3 columns</p>\n",
       "</div>"
      ],
      "text/plain": [
       "           Taxa de câmbio Taxa Selic      varIPCA\n",
       "datetime                                         \n",
       "1999-01-01          2,064       2,38  1,044640018\n",
       "1999-02-01         1,7212       3,33  1,093852018\n",
       "1999-03-01         1,6599       2,35  0,558382147\n",
       "1999-04-01         1,7232       2,02  0,299838391\n",
       "1999-05-01         1,7687       1,67  0,189499665\n",
       "...                   ...        ...          ...\n",
       "2021-07-01         5,1427       0,43  0,866225072\n",
       "2021-08-01         5,4388       0,44  1,153286907\n",
       "2021-09-01         5,6424       0,49  1,242208384\n",
       "2021-10-01         5,6193       0,59  0,945584264\n",
       "2021-11-01         5,5799       0,77  0,727306943\n",
       "\n",
       "[275 rows x 3 columns]"
      ]
     },
     "execution_count": 5,
     "metadata": {},
     "output_type": "execute_result"
    }
   ],
   "source": [
    "df1"
   ]
  },
  {
   "cell_type": "code",
   "execution_count": 6,
   "id": "caeaf11d",
   "metadata": {},
   "outputs": [],
   "source": [
    "#Limpando os dados: vírgulas e pontos\n",
    "df1['varIPCA'] = df1['varIPCA'].str.replace(',', '.').astype(float)\n",
    "df1['Taxa de câmbio'] = df1['Taxa de câmbio'].str.replace(',', '.').astype(float)\n",
    "df1['Taxa Selic'] = df1['Taxa Selic'].str.replace(',', '.').astype(float)"
   ]
  },
  {
   "cell_type": "code",
   "execution_count": 7,
   "id": "a69256df",
   "metadata": {},
   "outputs": [
    {
     "data": {
      "text/html": [
       "<div>\n",
       "<style scoped>\n",
       "    .dataframe tbody tr th:only-of-type {\n",
       "        vertical-align: middle;\n",
       "    }\n",
       "\n",
       "    .dataframe tbody tr th {\n",
       "        vertical-align: top;\n",
       "    }\n",
       "\n",
       "    .dataframe thead th {\n",
       "        text-align: right;\n",
       "    }\n",
       "</style>\n",
       "<table border=\"1\" class=\"dataframe\">\n",
       "  <thead>\n",
       "    <tr style=\"text-align: right;\">\n",
       "      <th></th>\n",
       "      <th>Taxa de câmbio</th>\n",
       "      <th>Taxa Selic</th>\n",
       "      <th>varIPCA</th>\n",
       "    </tr>\n",
       "    <tr>\n",
       "      <th>datetime</th>\n",
       "      <th></th>\n",
       "      <th></th>\n",
       "      <th></th>\n",
       "    </tr>\n",
       "  </thead>\n",
       "  <tbody>\n",
       "    <tr>\n",
       "      <th>1999-01-01</th>\n",
       "      <td>2.0640</td>\n",
       "      <td>2.38</td>\n",
       "      <td>1.044640</td>\n",
       "    </tr>\n",
       "    <tr>\n",
       "      <th>1999-02-01</th>\n",
       "      <td>1.7212</td>\n",
       "      <td>3.33</td>\n",
       "      <td>1.093852</td>\n",
       "    </tr>\n",
       "    <tr>\n",
       "      <th>1999-03-01</th>\n",
       "      <td>1.6599</td>\n",
       "      <td>2.35</td>\n",
       "      <td>0.558382</td>\n",
       "    </tr>\n",
       "    <tr>\n",
       "      <th>1999-04-01</th>\n",
       "      <td>1.7232</td>\n",
       "      <td>2.02</td>\n",
       "      <td>0.299838</td>\n",
       "    </tr>\n",
       "    <tr>\n",
       "      <th>1999-05-01</th>\n",
       "      <td>1.7687</td>\n",
       "      <td>1.67</td>\n",
       "      <td>0.189500</td>\n",
       "    </tr>\n",
       "    <tr>\n",
       "      <th>...</th>\n",
       "      <td>...</td>\n",
       "      <td>...</td>\n",
       "      <td>...</td>\n",
       "    </tr>\n",
       "    <tr>\n",
       "      <th>2021-07-01</th>\n",
       "      <td>5.1427</td>\n",
       "      <td>0.43</td>\n",
       "      <td>0.866225</td>\n",
       "    </tr>\n",
       "    <tr>\n",
       "      <th>2021-08-01</th>\n",
       "      <td>5.4388</td>\n",
       "      <td>0.44</td>\n",
       "      <td>1.153287</td>\n",
       "    </tr>\n",
       "    <tr>\n",
       "      <th>2021-09-01</th>\n",
       "      <td>5.6424</td>\n",
       "      <td>0.49</td>\n",
       "      <td>1.242208</td>\n",
       "    </tr>\n",
       "    <tr>\n",
       "      <th>2021-10-01</th>\n",
       "      <td>5.6193</td>\n",
       "      <td>0.59</td>\n",
       "      <td>0.945584</td>\n",
       "    </tr>\n",
       "    <tr>\n",
       "      <th>2021-11-01</th>\n",
       "      <td>5.5799</td>\n",
       "      <td>0.77</td>\n",
       "      <td>0.727307</td>\n",
       "    </tr>\n",
       "  </tbody>\n",
       "</table>\n",
       "<p>275 rows × 3 columns</p>\n",
       "</div>"
      ],
      "text/plain": [
       "            Taxa de câmbio  Taxa Selic   varIPCA\n",
       "datetime                                        \n",
       "1999-01-01          2.0640        2.38  1.044640\n",
       "1999-02-01          1.7212        3.33  1.093852\n",
       "1999-03-01          1.6599        2.35  0.558382\n",
       "1999-04-01          1.7232        2.02  0.299838\n",
       "1999-05-01          1.7687        1.67  0.189500\n",
       "...                    ...         ...       ...\n",
       "2021-07-01          5.1427        0.43  0.866225\n",
       "2021-08-01          5.4388        0.44  1.153287\n",
       "2021-09-01          5.6424        0.49  1.242208\n",
       "2021-10-01          5.6193        0.59  0.945584\n",
       "2021-11-01          5.5799        0.77  0.727307\n",
       "\n",
       "[275 rows x 3 columns]"
      ]
     },
     "execution_count": 7,
     "metadata": {},
     "output_type": "execute_result"
    }
   ],
   "source": [
    "df1"
   ]
  },
  {
   "cell_type": "markdown",
   "id": "418e7507",
   "metadata": {},
   "source": [
    "## Visualização\n",
    "<br>\n",
    "É possível ter uma noção do comportamento da série por sua visualização, séries estacionárias flutuam em torno de uma\n",
    "tendência determinística, sem jamais se distanciar de tal tendência, de acordo com Bueno (2008). \n",
    "<br>\n",
    "Abaixo temos 2 exemplos, o primeiro de uma série não estacionária e o segundo de uma estacionária."
   ]
  },
  {
   "cell_type": "markdown",
   "id": "489459ea",
   "metadata": {},
   "source": [
    "<img src = 'importacao.png'>"
   ]
  },
  {
   "cell_type": "markdown",
   "id": "547c1504",
   "metadata": {},
   "source": [
    "<img src = 'naoestac.png'>"
   ]
  },
  {
   "cell_type": "markdown",
   "id": "ff047d65",
   "metadata": {},
   "source": [
    "<img src = 'sérieestacionaria.png'>"
   ]
  },
  {
   "cell_type": "markdown",
   "id": "b0fad178",
   "metadata": {},
   "source": [
    "<br>\n",
    "Agora vamos visualizar o nosso conjunto de dados:"
   ]
  },
  {
   "cell_type": "code",
   "execution_count": 8,
   "id": "67787b9b",
   "metadata": {},
   "outputs": [
    {
     "data": {
      "image/png": "[encoded data removed]",
      "text/plain": [
       "<Figure size 720x360 with 3 Axes>"
      ]
     },
     "metadata": {
      "needs_background": "light"
     },
     "output_type": "display_data"
    }
   ],
   "source": [
    "tickers = df1.columns\n",
    "a = 2\n",
    "b = 2\n",
    "c = 1\n",
    "fig = plt.figure(figsize=(10,5))\n",
    "for i in tickers:\n",
    "    plt.subplot(a, b, c)\n",
    "    plt.title('{}'.format(i))\n",
    "    plt.xlabel(i)\n",
    "    plt.plot(df1[i])\n",
    "    c = c + 1\n",
    "\n",
    "plt.tight_layout()\n",
    "sns.despine(left = True)\n",
    "plt.show()"
   ]
  },
  {
   "cell_type": "markdown",
   "id": "290b122e",
   "metadata": {},
   "source": [
    "<br>\n",
    "Pela visualização podemos suspeitar que as séries da taxa de câmbio e Selic são não estacionárias, agora vamos obter a confirmação por meio dos testes."
   ]
  },
  {
   "cell_type": "markdown",
   "id": "e61e56b5",
   "metadata": {},
   "source": [
    "## Teste Dickey-Fuller aumentado\n",
    "<br> \n",
    "Teste utilizado para verificar a existência de raiz unitária na série, quando uma série possui raiz unitária ela é dita não estacionária.\n",
    "<br>\n",
    "Hipótese nula: a série possui raiz unitária, ou seja, não estacionária.\n",
    "<br>\n",
    "Hipótese alternativa: série estacionária\n",
    "<br>\n",
    "Adota-se aqui 5% de significância para a análise.\n",
    "<br>"
   ]
  },
  {
   "cell_type": "code",
   "execution_count": 9,
   "id": "bc934bdf",
   "metadata": {},
   "outputs": [
    {
     "data": {
      "text/plain": [
       "(-3.69924519628502,\n",
       " 0.004123783663812614,\n",
       " 8,\n",
       " 266,\n",
       " {'1%': -3.455175292841607,\n",
       "  '5%': -2.8724677563219485,\n",
       "  '10%': -2.57259315846006},\n",
       " 114.67153248212679)"
      ]
     },
     "execution_count": 9,
     "metadata": {},
     "output_type": "execute_result"
    }
   ],
   "source": [
    "#O teste de Dickey-Fuller aumentado é realizado segundo a seguinte função:\n",
    "adfuller(df1['varIPCA'])\n",
    "#Ele retorna uma tuple onde o primeiro valor é a estatística teste da função e o segundo é o p-valor. "
   ]
  },
  {
   "cell_type": "markdown",
   "id": "8458680b",
   "metadata": {},
   "source": [
    "<br>\n",
    "Entretanto, caso sua base de dados seja extensa é possível automatizar esse processo com um loop:"
   ]
  },
  {
   "cell_type": "code",
   "execution_count": 10,
   "id": "0a38382e",
   "metadata": {},
   "outputs": [],
   "source": [
    "#cria-se 3 listas, a primeira com o nome das colunas do data frame, a segunda uma lista vazia onde serão adicionados\n",
    "#os p-valores e a terceira é uma lista vazia onde serão adicionados as estatísticas testes\n",
    "colunas = df1.columns.tolist()\n",
    "pvaloresadf = []\n",
    "estatadf = []\n",
    "#utiliza-se os 2 for loops seguintes para fazer o teste para cada coluna do data frame, o primeiro adiciona os p-valores na lista\n",
    "# 'pvaloresadf' e o segundo adiciona as estatísticas na lista 'estatadf'\n",
    "for i in range(len(colunas)):\n",
    "    pvaloresadf.append(adfuller(df1[colunas[i]], regression='c',)[1])\n",
    "for i in range(len(colunas)):\n",
    "    estatadf.append(adfuller(df1[colunas[i]], regression='c',)[0])\n",
    "#criando uma tuple com os valores das 3 listas para criar um dataframe\n",
    "adf_tuples = list(zip(colunas, pvaloresadf, estatadf))\n",
    "adfullerteste = pd.DataFrame(adf_tuples, columns=['Série', 'p-valor', 'Estatística teste'])\n",
    "#esse for loop vai nos retornar se rejeitamos ou não a hipótese nula de acordo com 5% de significância\n",
    "for i in range(len(adfullerteste['p-valor'])):\n",
    "    if adfullerteste.loc[i, 'p-valor']>0.05:\n",
    "        adfullerteste.loc[i, 'resultado'] = 'aceita-se H0 a 5%'\n",
    "    else: \n",
    "        adfullerteste.loc[i, 'resultado'] = 'rejeita-se'\n",
    "adfullerteste = adfullerteste.set_index('Série')"
   ]
  },
  {
   "cell_type": "code",
   "execution_count": 11,
   "id": "5b69e105",
   "metadata": {},
   "outputs": [
    {
     "data": {
      "text/html": [
       "<div>\n",
       "<style scoped>\n",
       "    .dataframe tbody tr th:only-of-type {\n",
       "        vertical-align: middle;\n",
       "    }\n",
       "\n",
       "    .dataframe tbody tr th {\n",
       "        vertical-align: top;\n",
       "    }\n",
       "\n",
       "    .dataframe thead th {\n",
       "        text-align: right;\n",
       "    }\n",
       "</style>\n",
       "<table border=\"1\" class=\"dataframe\">\n",
       "  <thead>\n",
       "    <tr style=\"text-align: right;\">\n",
       "      <th></th>\n",
       "      <th>p-valor</th>\n",
       "      <th>Estatística teste</th>\n",
       "      <th>resultado</th>\n",
       "    </tr>\n",
       "    <tr>\n",
       "      <th>Série</th>\n",
       "      <th></th>\n",
       "      <th></th>\n",
       "      <th></th>\n",
       "    </tr>\n",
       "  </thead>\n",
       "  <tbody>\n",
       "    <tr>\n",
       "      <th>Taxa de câmbio</th>\n",
       "      <td>0.972201</td>\n",
       "      <td>0.198925</td>\n",
       "      <td>aceita-se H0 a 5%</td>\n",
       "    </tr>\n",
       "    <tr>\n",
       "      <th>Taxa Selic</th>\n",
       "      <td>0.125109</td>\n",
       "      <td>-2.461562</td>\n",
       "      <td>aceita-se H0 a 5%</td>\n",
       "    </tr>\n",
       "    <tr>\n",
       "      <th>varIPCA</th>\n",
       "      <td>0.004124</td>\n",
       "      <td>-3.699245</td>\n",
       "      <td>rejeita-se</td>\n",
       "    </tr>\n",
       "  </tbody>\n",
       "</table>\n",
       "</div>"
      ],
      "text/plain": [
       "                 p-valor  Estatística teste          resultado\n",
       "Série                                                         \n",
       "Taxa de câmbio  0.972201           0.198925  aceita-se H0 a 5%\n",
       "Taxa Selic      0.125109          -2.461562  aceita-se H0 a 5%\n",
       "varIPCA         0.004124          -3.699245         rejeita-se"
      ]
     },
     "execution_count": 11,
     "metadata": {},
     "output_type": "execute_result"
    }
   ],
   "source": [
    "adfullerteste"
   ]
  },
  {
   "cell_type": "markdown",
   "id": "1d38ae6a",
   "metadata": {},
   "source": [
    "<br> Percebe-se que o teste confirma as suspeitas que tivemos com a observação nos gráficos. <br>\n",
    "<br> Dessa forma, a taxa de câmbio obteve um p-valor de 0,972201 e a Selic de 0,125, considerando um nível de significância de 5% nós aceitamos a hipótese nula de não estacionariedade. Por outro lado, a variação do IPCA (varIPCA) obteve um p-valor próximo a zero, portanto rejeitamos a hipótese nula, há indícios de que tal série é estacionária."
   ]
  }
 ],
 "metadata": {
  "kernelspec": {
   "display_name": "Python 3 (ipykernel)",
   "language": "python",
   "name": "python3"
  },
  "language_info": {
   "codemirror_mode": {
    "name": "ipython",
    "version": 3
   },
   "file_extension": ".py",
   "mimetype": "text/x-python",
   "name": "python",
   "nbconvert_exporter": "python",
   "pygments_lexer": "ipython3",
   "version": "3.8.12"
  }
 },
 "nbformat": 4,
 "nbformat_minor": 5
}
