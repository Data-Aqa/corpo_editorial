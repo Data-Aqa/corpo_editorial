{
 "cells": [
  {
   "attachments": {
    "download.jpg": {
     "image/jpeg": "[encoded data removed]"
    }
   },
   "cell_type": "markdown",
   "id": "c7024d22",
   "metadata": {},
   "source": [
    "![download.jpg](attachment:download.jpg) <center>"
   ]
  },
  {
   "cell_type": "markdown",
   "id": "748150f5",
   "metadata": {},
   "source": [
    "#  Efeito mandante\n",
    "<br>\n",
    "    Esse notebook será utilizado para analisar o efeito da saída do público dos estádios de futebol durante a pandemia do Covid-19. Será feito uma comparação entre os anos pré-2020 e 2020. Além disso, serão realizados testes estatísticos para avaliar se as mudanças foram significativas. <font color = #0879c4> O efeito mandante<font color = black> consiste, portanto, em avaliar se um time jogando em casa, com a torcida a seu favor, possui ou não vantagens sobre o time visitante.\n",
    "<br> \n",
    "<br>\n",
    "A primeira seção deste notebook consiste em uma apresentação dos dados e sua limpeza. Na segunda é realizado uma análise descritiva da tabela utilizada, obtendo os resultados para as proporções de vitória do mandante, visitante e empate para os dados no geral, antes e após a pandemia. Na terceira seção é feita uma análise por anos, utilizando as proporções encontradas para criar uma tabela. Por fim são realizados testes estatísticos para reconhecer a distribuição dos dados da amostra e para analisar se o efeito mandante se manteve durante a ausência do público.\n",
    "<br> "
   ]
  },
  {
   "cell_type": "markdown",
   "id": "79082207",
   "metadata": {},
   "source": [
    "## Importando e limpando os dados"
   ]
  },
  {
   "cell_type": "code",
   "execution_count": 1,
   "id": "f0788972",
   "metadata": {},
   "outputs": [],
   "source": [
    "import pandas as pd\n",
    "import basedosdados as bd\n",
    "import numpy as np\n",
    "import scipy.stats\n",
    "import matplotlib.pyplot as plt\n",
    "import seaborn as sns\n",
    "from seaborn_qqplot import pplot"
   ]
  },
  {
   "cell_type": "code",
   "execution_count": 2,
   "id": "8f202b28",
   "metadata": {},
   "outputs": [
    {
     "name": "stderr",
     "output_type": "stream",
     "text": [
      "Downloading: 100%|█████████████████████████████████████████████████████████████| 7030/7030 [00:03<00:00, 2327.11rows/s]\n"
     ]
    }
   ],
   "source": [
    "df = bd.read_table(dataset_id='mundo_transfermarkt_competicoes', \n",
    "table_id='brasileirao_serie_a',\n",
    "billing_project_id=\"single-cistern-340001\")"
   ]
  },
  {
   "cell_type": "code",
   "execution_count": 3,
   "id": "cbb3179a",
   "metadata": {},
   "outputs": [],
   "source": [
    "df1 = df[['data','rodada','ano_campeonato','time_man', 'time_vis', 'gols_man','gols_vis']]"
   ]
  },
  {
   "cell_type": "code",
   "execution_count": 4,
   "id": "801b80ef",
   "metadata": {
    "scrolled": true
   },
   "outputs": [
    {
     "name": "stdout",
     "output_type": "stream",
     "text": [
      "<class 'pandas.core.frame.DataFrame'>\n",
      "RangeIndex: 7030 entries, 0 to 7029\n",
      "Data columns (total 7 columns):\n",
      " #   Column          Non-Null Count  Dtype         \n",
      "---  ------          --------------  -----         \n",
      " 0   data            7030 non-null   datetime64[ns]\n",
      " 1   rodada          7030 non-null   int64         \n",
      " 2   ano_campeonato  7030 non-null   int64         \n",
      " 3   time_man        7030 non-null   object        \n",
      " 4   time_vis        7030 non-null   object        \n",
      " 5   gols_man        7029 non-null   float64       \n",
      " 6   gols_vis        7029 non-null   float64       \n",
      "dtypes: datetime64[ns](1), float64(2), int64(2), object(2)\n",
      "memory usage: 384.6+ KB\n"
     ]
    }
   ],
   "source": [
    "df1.info()"
   ]
  },
  {
   "cell_type": "code",
   "execution_count": 5,
   "id": "5a173347",
   "metadata": {},
   "outputs": [
    {
     "data": {
      "text/html": [
       "<div>\n",
       "<style scoped>\n",
       "    .dataframe tbody tr th:only-of-type {\n",
       "        vertical-align: middle;\n",
       "    }\n",
       "\n",
       "    .dataframe tbody tr th {\n",
       "        vertical-align: top;\n",
       "    }\n",
       "\n",
       "    .dataframe thead th {\n",
       "        text-align: right;\n",
       "    }\n",
       "</style>\n",
       "<table border=\"1\" class=\"dataframe\">\n",
       "  <thead>\n",
       "    <tr style=\"text-align: right;\">\n",
       "      <th></th>\n",
       "      <th>data</th>\n",
       "      <th>rodada</th>\n",
       "      <th>ano_campeonato</th>\n",
       "      <th>time_man</th>\n",
       "      <th>time_vis</th>\n",
       "      <th>gols_man</th>\n",
       "      <th>gols_vis</th>\n",
       "    </tr>\n",
       "  </thead>\n",
       "  <tbody>\n",
       "    <tr>\n",
       "      <th>5507</th>\n",
       "      <td>2016-12-11</td>\n",
       "      <td>38</td>\n",
       "      <td>2016</td>\n",
       "      <td>Chapecoense</td>\n",
       "      <td>Atlético-MG</td>\n",
       "      <td>NaN</td>\n",
       "      <td>NaN</td>\n",
       "    </tr>\n",
       "  </tbody>\n",
       "</table>\n",
       "</div>"
      ],
      "text/plain": [
       "           data  rodada  ano_campeonato     time_man     time_vis  gols_man  \\\n",
       "5507 2016-12-11      38            2016  Chapecoense  Atlético-MG       NaN   \n",
       "\n",
       "      gols_vis  \n",
       "5507       NaN  "
      ]
     },
     "execution_count": 5,
     "metadata": {},
     "output_type": "execute_result"
    }
   ],
   "source": [
    "df1[df1['gols_man'].isna()]"
   ]
  },
  {
   "cell_type": "code",
   "execution_count": 6,
   "id": "de527def",
   "metadata": {},
   "outputs": [],
   "source": [
    "df1.dropna(axis = 0, inplace = True)"
   ]
  },
  {
   "cell_type": "code",
   "execution_count": 7,
   "id": "8fcfc3b5",
   "metadata": {
    "scrolled": true
   },
   "outputs": [
    {
     "data": {
      "text/plain": [
       "data              False\n",
       "rodada            False\n",
       "ano_campeonato    False\n",
       "time_man          False\n",
       "time_vis          False\n",
       "gols_man          False\n",
       "gols_vis          False\n",
       "dtype: bool"
      ]
     },
     "execution_count": 7,
     "metadata": {},
     "output_type": "execute_result"
    }
   ],
   "source": [
    "df1.isna().any()"
   ]
  },
  {
   "cell_type": "code",
   "execution_count": 8,
   "id": "ed0330e8",
   "metadata": {},
   "outputs": [],
   "source": [
    "df1 = df1.reset_index()\n",
    "df1 = df1.drop(columns=['index'])"
   ]
  },
  {
   "cell_type": "code",
   "execution_count": 9,
   "id": "350a15dd",
   "metadata": {},
   "outputs": [],
   "source": [
    "for registro in range(0,7029):\n",
    "    if df1.loc[registro, 'gols_man'] > df1.loc[registro, 'gols_vis']:\n",
    "        df1.loc[registro,'vencedor'] = 'mandante'\n",
    "    elif df1.loc[registro, 'gols_man'] < df1.loc[registro, 'gols_vis']:\n",
    "        df1.loc[registro, 'vencedor'] = 'visitante'\n",
    "    else:\n",
    "        df1.loc[registro, 'vencedor'] = 'empate'"
   ]
  },
  {
   "cell_type": "code",
   "execution_count": 10,
   "id": "80fc5741",
   "metadata": {},
   "outputs": [
    {
     "data": {
      "text/html": [
       "<div>\n",
       "<style scoped>\n",
       "    .dataframe tbody tr th:only-of-type {\n",
       "        vertical-align: middle;\n",
       "    }\n",
       "\n",
       "    .dataframe tbody tr th {\n",
       "        vertical-align: top;\n",
       "    }\n",
       "\n",
       "    .dataframe thead th {\n",
       "        text-align: right;\n",
       "    }\n",
       "</style>\n",
       "<table border=\"1\" class=\"dataframe\">\n",
       "  <thead>\n",
       "    <tr style=\"text-align: right;\">\n",
       "      <th></th>\n",
       "      <th>data</th>\n",
       "      <th>rodada</th>\n",
       "      <th>ano_campeonato</th>\n",
       "      <th>time_man</th>\n",
       "      <th>time_vis</th>\n",
       "      <th>gols_man</th>\n",
       "      <th>gols_vis</th>\n",
       "      <th>vencedor</th>\n",
       "    </tr>\n",
       "  </thead>\n",
       "  <tbody>\n",
       "    <tr>\n",
       "      <th>0</th>\n",
       "      <td>2003-03-29</td>\n",
       "      <td>1</td>\n",
       "      <td>2003</td>\n",
       "      <td>Guarani</td>\n",
       "      <td>Vasco da Gama</td>\n",
       "      <td>4.0</td>\n",
       "      <td>2.0</td>\n",
       "      <td>mandante</td>\n",
       "    </tr>\n",
       "    <tr>\n",
       "      <th>1</th>\n",
       "      <td>2003-03-29</td>\n",
       "      <td>1</td>\n",
       "      <td>2003</td>\n",
       "      <td>Atlético-PR</td>\n",
       "      <td>Grêmio</td>\n",
       "      <td>2.0</td>\n",
       "      <td>0.0</td>\n",
       "      <td>mandante</td>\n",
       "    </tr>\n",
       "    <tr>\n",
       "      <th>2</th>\n",
       "      <td>2003-03-30</td>\n",
       "      <td>1</td>\n",
       "      <td>2003</td>\n",
       "      <td>Flamengo</td>\n",
       "      <td>Coritiba FC</td>\n",
       "      <td>1.0</td>\n",
       "      <td>1.0</td>\n",
       "      <td>empate</td>\n",
       "    </tr>\n",
       "    <tr>\n",
       "      <th>3</th>\n",
       "      <td>2003-03-30</td>\n",
       "      <td>1</td>\n",
       "      <td>2003</td>\n",
       "      <td>Goiás EC</td>\n",
       "      <td>Paysandu SC</td>\n",
       "      <td>2.0</td>\n",
       "      <td>2.0</td>\n",
       "      <td>empate</td>\n",
       "    </tr>\n",
       "    <tr>\n",
       "      <th>4</th>\n",
       "      <td>2003-03-30</td>\n",
       "      <td>1</td>\n",
       "      <td>2003</td>\n",
       "      <td>Internacional</td>\n",
       "      <td>Ponte Preta</td>\n",
       "      <td>1.0</td>\n",
       "      <td>1.0</td>\n",
       "      <td>empate</td>\n",
       "    </tr>\n",
       "    <tr>\n",
       "      <th>...</th>\n",
       "      <td>...</td>\n",
       "      <td>...</td>\n",
       "      <td>...</td>\n",
       "      <td>...</td>\n",
       "      <td>...</td>\n",
       "      <td>...</td>\n",
       "      <td>...</td>\n",
       "      <td>...</td>\n",
       "    </tr>\n",
       "    <tr>\n",
       "      <th>7024</th>\n",
       "      <td>2021-02-26</td>\n",
       "      <td>38</td>\n",
       "      <td>2020</td>\n",
       "      <td>Internacional</td>\n",
       "      <td>Corinthians</td>\n",
       "      <td>0.0</td>\n",
       "      <td>0.0</td>\n",
       "      <td>empate</td>\n",
       "    </tr>\n",
       "    <tr>\n",
       "      <th>7025</th>\n",
       "      <td>2021-02-26</td>\n",
       "      <td>38</td>\n",
       "      <td>2020</td>\n",
       "      <td>EC Bahia</td>\n",
       "      <td>Santos FC</td>\n",
       "      <td>2.0</td>\n",
       "      <td>0.0</td>\n",
       "      <td>mandante</td>\n",
       "    </tr>\n",
       "    <tr>\n",
       "      <th>7026</th>\n",
       "      <td>2021-02-26</td>\n",
       "      <td>38</td>\n",
       "      <td>2020</td>\n",
       "      <td>Athletico-PR</td>\n",
       "      <td>Sport Recife</td>\n",
       "      <td>2.0</td>\n",
       "      <td>0.0</td>\n",
       "      <td>mandante</td>\n",
       "    </tr>\n",
       "    <tr>\n",
       "      <th>7027</th>\n",
       "      <td>2021-02-26</td>\n",
       "      <td>38</td>\n",
       "      <td>2020</td>\n",
       "      <td>Ceará SC</td>\n",
       "      <td>Botafogo</td>\n",
       "      <td>2.0</td>\n",
       "      <td>1.0</td>\n",
       "      <td>mandante</td>\n",
       "    </tr>\n",
       "    <tr>\n",
       "      <th>7028</th>\n",
       "      <td>2021-02-26</td>\n",
       "      <td>38</td>\n",
       "      <td>2020</td>\n",
       "      <td>Atlético-GO</td>\n",
       "      <td>Coritiba FC</td>\n",
       "      <td>3.0</td>\n",
       "      <td>1.0</td>\n",
       "      <td>mandante</td>\n",
       "    </tr>\n",
       "  </tbody>\n",
       "</table>\n",
       "<p>7029 rows × 8 columns</p>\n",
       "</div>"
      ],
      "text/plain": [
       "           data  rodada  ano_campeonato       time_man       time_vis  \\\n",
       "0    2003-03-29       1            2003        Guarani  Vasco da Gama   \n",
       "1    2003-03-29       1            2003    Atlético-PR         Grêmio   \n",
       "2    2003-03-30       1            2003       Flamengo    Coritiba FC   \n",
       "3    2003-03-30       1            2003       Goiás EC    Paysandu SC   \n",
       "4    2003-03-30       1            2003  Internacional    Ponte Preta   \n",
       "...         ...     ...             ...            ...            ...   \n",
       "7024 2021-02-26      38            2020  Internacional    Corinthians   \n",
       "7025 2021-02-26      38            2020       EC Bahia      Santos FC   \n",
       "7026 2021-02-26      38            2020   Athletico-PR   Sport Recife   \n",
       "7027 2021-02-26      38            2020       Ceará SC       Botafogo   \n",
       "7028 2021-02-26      38            2020    Atlético-GO    Coritiba FC   \n",
       "\n",
       "      gols_man  gols_vis  vencedor  \n",
       "0          4.0       2.0  mandante  \n",
       "1          2.0       0.0  mandante  \n",
       "2          1.0       1.0    empate  \n",
       "3          2.0       2.0    empate  \n",
       "4          1.0       1.0    empate  \n",
       "...        ...       ...       ...  \n",
       "7024       0.0       0.0    empate  \n",
       "7025       2.0       0.0  mandante  \n",
       "7026       2.0       0.0  mandante  \n",
       "7027       2.0       1.0  mandante  \n",
       "7028       3.0       1.0  mandante  \n",
       "\n",
       "[7029 rows x 8 columns]"
      ]
     },
     "execution_count": 10,
     "metadata": {},
     "output_type": "execute_result"
    }
   ],
   "source": [
    "df1"
   ]
  },
  {
   "cell_type": "markdown",
   "id": "0a133aef",
   "metadata": {},
   "source": [
    "## Panorama geral"
   ]
  },
  {
   "cell_type": "code",
   "execution_count": 11,
   "id": "f48afa22",
   "metadata": {},
   "outputs": [
    {
     "name": "stdout",
     "output_type": "stream",
     "text": [
      "Mandantes: 3522|Visitentes: 1652|Empate: 1855\n"
     ]
    }
   ],
   "source": [
    "vencedores_mandantes = df1[df1['vencedor'] == 'mandante'].count()\n",
    "vencedores_visitantes = df1[df1['vencedor'] == 'visitante'].count()\n",
    "empate = df1[df1['vencedor'] == 'empate'].count()\n",
    "print('Mandantes: {}|Visitentes: {}|Empate: {}'.format(vencedores_mandantes[0], vencedores_visitantes[0], empate[0]))"
   ]
  },
  {
   "cell_type": "markdown",
   "id": "1f2184a3",
   "metadata": {},
   "source": [
    "### Proporções panorama geral"
   ]
  },
  {
   "cell_type": "code",
   "execution_count": 12,
   "id": "9b7e4504",
   "metadata": {},
   "outputs": [
    {
     "name": "stdout",
     "output_type": "stream",
     "text": [
      "Proporção mandantes: 50.106700810926164|Proporção visitantes: 23.502631953336177|Proporção empate: 26.39066723573766\n"
     ]
    }
   ],
   "source": [
    "prop_mandante_geral = (vencedores_mandantes[0]/df1.count()[0])*100\n",
    "prop_visitante_geral = (vencedores_visitantes[0]/df1.count()[0])*100\n",
    "prop_empate_geral = (empate[0]/df1.count()[0])*100\n",
    "print('Proporção mandantes: {}|Proporção visitantes: {}|Proporção empate: {}'.format(prop_mandante_geral, prop_visitante_geral, prop_empate_geral))"
   ]
  },
  {
   "cell_type": "markdown",
   "id": "08fc2b49",
   "metadata": {},
   "source": [
    "## Antes da pandemia (2003 a 2019)"
   ]
  },
  {
   "cell_type": "code",
   "execution_count": 13,
   "id": "51fe89e9",
   "metadata": {},
   "outputs": [],
   "source": [
    "df1_antes = df1[df1['ano_campeonato']<2020]"
   ]
  },
  {
   "cell_type": "code",
   "execution_count": 14,
   "id": "1481be26",
   "metadata": {
    "scrolled": true
   },
   "outputs": [
    {
     "name": "stdout",
     "output_type": "stream",
     "text": [
      "Mandantes: 3351|Visitantes: 1551|Empate: 1747\n"
     ]
    }
   ],
   "source": [
    "mandante_antes = df1_antes[df1_antes['vencedor'] == 'mandante'].count()\n",
    "visitante_antes = df1_antes[df1_antes['vencedor'] == 'visitante'].count()\n",
    "empate_antes = df1_antes[df1_antes['vencedor'] == 'empate'].count()\n",
    "print('Mandantes: {}|Visitantes: {}|Empate: {}'.format(mandante_antes[0], visitante_antes[0], empate_antes[0]))"
   ]
  },
  {
   "cell_type": "markdown",
   "id": "fe9aba97",
   "metadata": {},
   "source": [
    "### Proporções de antes da pandemia (geral)"
   ]
  },
  {
   "cell_type": "code",
   "execution_count": 15,
   "id": "e9a77732",
   "metadata": {},
   "outputs": [
    {
     "name": "stdout",
     "output_type": "stream",
     "text": [
      "Proporção mandantes: 50.39855617386073|Proporção visitantes: 23.3268160625658|Proporção empate: 26.27462776357347\n"
     ]
    }
   ],
   "source": [
    "prop_mandante_antes = (mandante_antes[0]/df1_antes.count()[0])*100\n",
    "prop_visitante_antes = (visitante_antes[0]/df1_antes.count()[0])*100\n",
    "prop_empate_antes = (empate_antes[0]/df1_antes.count()[0])*100\n",
    "print('Proporção mandantes: {}|Proporção visitantes: {}|Proporção empate: {}'.format(prop_mandante_antes, prop_visitante_antes, prop_empate_antes))"
   ]
  },
  {
   "cell_type": "markdown",
   "id": "f5774091",
   "metadata": {},
   "source": [
    "## Depois da pandemia (2020)"
   ]
  },
  {
   "cell_type": "code",
   "execution_count": 16,
   "id": "42f1d480",
   "metadata": {},
   "outputs": [],
   "source": [
    "df1_depois = df1[df1['ano_campeonato'] == 2020]"
   ]
  },
  {
   "cell_type": "code",
   "execution_count": 17,
   "id": "583879bb",
   "metadata": {},
   "outputs": [
    {
     "name": "stdout",
     "output_type": "stream",
     "text": [
      "Mandantes: 171|Visitantes: 101|Empate: 108\n"
     ]
    }
   ],
   "source": [
    "mandante_depois = df1_depois[df1_depois['vencedor'] == 'mandante'].count()\n",
    "visitante_depois = df1_depois[df1_depois['vencedor'] == 'visitante'].count()\n",
    "empate_depois = df1_depois[df1_depois['vencedor'] == 'empate'].count()\n",
    "print('Mandantes: {}|Visitantes: {}|Empate: {}'.format(mandante_depois[0], visitante_depois[0], empate_depois[0]))"
   ]
  },
  {
   "cell_type": "markdown",
   "id": "857e128d",
   "metadata": {},
   "source": [
    "### Proporções depois da pandemia"
   ]
  },
  {
   "cell_type": "code",
   "execution_count": 18,
   "id": "4976353c",
   "metadata": {},
   "outputs": [
    {
     "name": "stdout",
     "output_type": "stream",
     "text": [
      "Proporção mandantes: 45.0|Proporção visitantes: 26.57894736842105|Proporção empate: 28.421052631578945\n"
     ]
    }
   ],
   "source": [
    "prop_mandante_depois = (mandante_depois[0]/df1_depois.count()[0])*100\n",
    "prop_visitante_depois = (visitante_depois[0]/df1_depois.count()[0])*100\n",
    "prop_empate_depois = (empate_depois[0]/df1_depois.count()[0])*100\n",
    "print('Proporção mandantes: {}|Proporção visitantes: {}|Proporção empate: {}'.format(prop_mandante_depois, prop_visitante_depois, prop_empate_depois))"
   ]
  },
  {
   "cell_type": "markdown",
   "id": "07c37125",
   "metadata": {},
   "source": [
    "## Análise por anos"
   ]
  },
  {
   "cell_type": "code",
   "execution_count": 19,
   "id": "dfc789fa",
   "metadata": {},
   "outputs": [],
   "source": [
    "anos = df1['ano_campeonato'].unique().tolist()"
   ]
  },
  {
   "cell_type": "code",
   "execution_count": 20,
   "id": "3270f086",
   "metadata": {},
   "outputs": [],
   "source": [
    "def informacao(ano):\n",
    "    df5 = df1[df1['ano_campeonato'] == ano]\n",
    "    mandante = df5[df5['vencedor'] == 'mandante'].count()\n",
    "    visitante = df5[df5['vencedor'] == 'visitante'].count()\n",
    "    empate = df5[df5['vencedor'] == 'empate'].count()\n",
    "    prop_mandante1 = (mandante[0]/df5.count()[0])*100\n",
    "    prop_visitante1 = (visitante[0]/df5.count()[0])*100\n",
    "    prop_empate1 = (empate[0]/df5.count()[0])*100\n",
    "    return [prop_mandante1, prop_visitante1, prop_empate1]"
   ]
  },
  {
   "cell_type": "code",
   "execution_count": 21,
   "id": "0fe77745",
   "metadata": {},
   "outputs": [
    {
     "data": {
      "text/plain": [
       "[53.50877192982456, 19.736842105263158, 26.75438596491228]"
      ]
     },
     "execution_count": 21,
     "metadata": {},
     "output_type": "execute_result"
    }
   ],
   "source": [
    "informacao(2003)"
   ]
  },
  {
   "cell_type": "code",
   "execution_count": 22,
   "id": "4b53bdda",
   "metadata": {},
   "outputs": [],
   "source": [
    "proporcao = pd.DataFrame()"
   ]
  },
  {
   "cell_type": "code",
   "execution_count": 23,
   "id": "41beef9e",
   "metadata": {},
   "outputs": [],
   "source": [
    "for a in anos:\n",
    "    proporcao.loc[a,'mandante'] = informacao(a)[0]\n",
    "    proporcao.loc[a,'visitante'] = informacao(a)[1]\n",
    "    proporcao.loc[a,'empate'] = informacao(a)[2]"
   ]
  },
  {
   "cell_type": "code",
   "execution_count": 24,
   "id": "97d9fe06",
   "metadata": {},
   "outputs": [
    {
     "data": {
      "text/html": [
       "<div>\n",
       "<style scoped>\n",
       "    .dataframe tbody tr th:only-of-type {\n",
       "        vertical-align: middle;\n",
       "    }\n",
       "\n",
       "    .dataframe tbody tr th {\n",
       "        vertical-align: top;\n",
       "    }\n",
       "\n",
       "    .dataframe thead th {\n",
       "        text-align: right;\n",
       "    }\n",
       "</style>\n",
       "<table border=\"1\" class=\"dataframe\">\n",
       "  <thead>\n",
       "    <tr style=\"text-align: right;\">\n",
       "      <th></th>\n",
       "      <th>mandante</th>\n",
       "      <th>visitante</th>\n",
       "      <th>empate</th>\n",
       "    </tr>\n",
       "  </thead>\n",
       "  <tbody>\n",
       "    <tr>\n",
       "      <th>2003</th>\n",
       "      <td>53.508772</td>\n",
       "      <td>19.736842</td>\n",
       "      <td>26.754386</td>\n",
       "    </tr>\n",
       "    <tr>\n",
       "      <th>2004</th>\n",
       "      <td>51.315789</td>\n",
       "      <td>22.587719</td>\n",
       "      <td>26.096491</td>\n",
       "    </tr>\n",
       "    <tr>\n",
       "      <th>2005</th>\n",
       "      <td>49.282297</td>\n",
       "      <td>27.511962</td>\n",
       "      <td>23.205742</td>\n",
       "    </tr>\n",
       "    <tr>\n",
       "      <th>2006</th>\n",
       "      <td>50.000000</td>\n",
       "      <td>24.473684</td>\n",
       "      <td>25.526316</td>\n",
       "    </tr>\n",
       "    <tr>\n",
       "      <th>2007</th>\n",
       "      <td>50.526316</td>\n",
       "      <td>25.789474</td>\n",
       "      <td>23.684211</td>\n",
       "    </tr>\n",
       "    <tr>\n",
       "      <th>2008</th>\n",
       "      <td>54.736842</td>\n",
       "      <td>20.000000</td>\n",
       "      <td>25.263158</td>\n",
       "    </tr>\n",
       "    <tr>\n",
       "      <th>2009</th>\n",
       "      <td>51.315789</td>\n",
       "      <td>21.842105</td>\n",
       "      <td>26.842105</td>\n",
       "    </tr>\n",
       "    <tr>\n",
       "      <th>2010</th>\n",
       "      <td>47.105263</td>\n",
       "      <td>21.842105</td>\n",
       "      <td>31.052632</td>\n",
       "    </tr>\n",
       "    <tr>\n",
       "      <th>2011</th>\n",
       "      <td>48.421053</td>\n",
       "      <td>23.947368</td>\n",
       "      <td>27.631579</td>\n",
       "    </tr>\n",
       "    <tr>\n",
       "      <th>2012</th>\n",
       "      <td>48.157895</td>\n",
       "      <td>24.210526</td>\n",
       "      <td>27.631579</td>\n",
       "    </tr>\n",
       "    <tr>\n",
       "      <th>2013</th>\n",
       "      <td>48.421053</td>\n",
       "      <td>23.157895</td>\n",
       "      <td>28.421053</td>\n",
       "    </tr>\n",
       "    <tr>\n",
       "      <th>2014</th>\n",
       "      <td>51.842105</td>\n",
       "      <td>23.947368</td>\n",
       "      <td>24.210526</td>\n",
       "    </tr>\n",
       "    <tr>\n",
       "      <th>2015</th>\n",
       "      <td>52.631579</td>\n",
       "      <td>23.421053</td>\n",
       "      <td>23.947368</td>\n",
       "    </tr>\n",
       "    <tr>\n",
       "      <th>2016</th>\n",
       "      <td>53.298153</td>\n",
       "      <td>21.899736</td>\n",
       "      <td>24.802111</td>\n",
       "    </tr>\n",
       "    <tr>\n",
       "      <th>2017</th>\n",
       "      <td>43.947368</td>\n",
       "      <td>28.947368</td>\n",
       "      <td>27.105263</td>\n",
       "    </tr>\n",
       "    <tr>\n",
       "      <th>2018</th>\n",
       "      <td>53.157895</td>\n",
       "      <td>17.894737</td>\n",
       "      <td>28.947368</td>\n",
       "    </tr>\n",
       "    <tr>\n",
       "      <th>2019</th>\n",
       "      <td>48.421053</td>\n",
       "      <td>25.789474</td>\n",
       "      <td>25.789474</td>\n",
       "    </tr>\n",
       "    <tr>\n",
       "      <th>2020</th>\n",
       "      <td>45.000000</td>\n",
       "      <td>26.578947</td>\n",
       "      <td>28.421053</td>\n",
       "    </tr>\n",
       "  </tbody>\n",
       "</table>\n",
       "</div>"
      ],
      "text/plain": [
       "       mandante  visitante     empate\n",
       "2003  53.508772  19.736842  26.754386\n",
       "2004  51.315789  22.587719  26.096491\n",
       "2005  49.282297  27.511962  23.205742\n",
       "2006  50.000000  24.473684  25.526316\n",
       "2007  50.526316  25.789474  23.684211\n",
       "2008  54.736842  20.000000  25.263158\n",
       "2009  51.315789  21.842105  26.842105\n",
       "2010  47.105263  21.842105  31.052632\n",
       "2011  48.421053  23.947368  27.631579\n",
       "2012  48.157895  24.210526  27.631579\n",
       "2013  48.421053  23.157895  28.421053\n",
       "2014  51.842105  23.947368  24.210526\n",
       "2015  52.631579  23.421053  23.947368\n",
       "2016  53.298153  21.899736  24.802111\n",
       "2017  43.947368  28.947368  27.105263\n",
       "2018  53.157895  17.894737  28.947368\n",
       "2019  48.421053  25.789474  25.789474\n",
       "2020  45.000000  26.578947  28.421053"
      ]
     },
     "execution_count": 24,
     "metadata": {},
     "output_type": "execute_result"
    }
   ],
   "source": [
    "proporcao"
   ]
  },
  {
   "cell_type": "code",
   "execution_count": 25,
   "id": "bc21cebf",
   "metadata": {},
   "outputs": [
    {
     "name": "stdout",
     "output_type": "stream",
     "text": [
      "Mandante média: 50.06051231193573 | Mandante desvio padrão: 2.896291223365169\n",
      "Visitante média: 23.532131363161778 | Visitante desvio padrão: 2.7326369990195882\n",
      "Empate média: 26.407356324902498 | Empate desvio padrão: 2.0223508796831466\n"
     ]
    }
   ],
   "source": [
    "mandante_media = proporcao['mandante'].mean()\n",
    "mandante_std = np.std(proporcao['mandante'])\n",
    "visitante_media = proporcao['visitante'].mean()\n",
    "visitante_std = np.std(proporcao['visitante'])\n",
    "empate_media = proporcao['empate'].mean()\n",
    "empate_std = np.std(proporcao['empate'])\n",
    "print('Mandante média: {} | Mandante desvio padrão: {}'.format(mandante_media, mandante_std))\n",
    "print('Visitante média: {} | Visitante desvio padrão: {}'.format(visitante_media, visitante_std))\n",
    "print('Empate média: {} | Empate desvio padrão: {}'.format(empate_media, empate_std))"
   ]
  },
  {
   "cell_type": "markdown",
   "id": "f853564f",
   "metadata": {},
   "source": [
    "## Testes estatísticos"
   ]
  },
  {
   "cell_type": "markdown",
   "id": "431c3b81",
   "metadata": {},
   "source": [
    "### Teste de Shapiro"
   ]
  },
  {
   "cell_type": "markdown",
   "id": "a59cacf0",
   "metadata": {},
   "source": [
    "H0: não é diferente de uma distribuição normal"
   ]
  },
  {
   "cell_type": "code",
   "execution_count": 26,
   "id": "eb9f793b",
   "metadata": {},
   "outputs": [
    {
     "name": "stdout",
     "output_type": "stream",
     "text": [
      "p-valor Mandante: 0.676895797252655, p-valor Visitante: 0.9969305396080017, p-valor Empate: 0.8717553615570068\n"
     ]
    }
   ],
   "source": [
    "shapiro_mandante = scipy.stats.shapiro(proporcao['mandante'])\n",
    "shapiro_visitante = scipy.stats.shapiro(proporcao['visitante'])\n",
    "shapiro_empate = scipy.stats.shapiro(proporcao['empate'])\n",
    "print(f'p-valor Mandante: {shapiro_mandante[1]}, p-valor Visitante: {shapiro_visitante[1]}, p-valor Empate: {shapiro_empate[1]}')"
   ]
  },
  {
   "cell_type": "code",
   "execution_count": 27,
   "id": "825ef540",
   "metadata": {},
   "outputs": [
    {
     "data": {
      "image/png": "[encoded data removed]",
      "text/plain": [
       "<Figure size 504x360 with 1 Axes>"
      ]
     },
     "metadata": {
      "needs_background": "light"
     },
     "output_type": "display_data"
    }
   ],
   "source": [
    "fig, ax = plt.subplots(figsize = (7,5))\n",
    "scipy.stats.probplot(proporcao['mandante'], dist=\"norm\", plot=plt)\n",
    "scipy.stats.probplot(proporcao['visitante'], dist=\"norm\", plot=plt)\n",
    "scipy.stats.probplot(proporcao['empate'], dist=\"norm\", plot=plt)\n",
    "ax.set_title('Gráfico de probabilidade', fontsize = 14)\n",
    "ax.set_ylabel('Valores ordenados')\n",
    "ax.set_xlabel('Quantis teoréticos')\n",
    "spines = ['top', 'left', 'right']\n",
    "for spine in spines:\n",
    "    ax.spines[spine].set_visible(False)\n",
    "ax.grid(axis = 'y', alpha = .15)\n",
    "plt.show()"
   ]
  },
  {
   "cell_type": "markdown",
   "id": "c4195493",
   "metadata": {},
   "source": [
    "## Plotando distribuições"
   ]
  },
  {
   "cell_type": "markdown",
   "id": "cc6de762",
   "metadata": {},
   "source": [
    "A figura abaixo é um histograma, que é um tipo de gráfico que representa uma ou mais variáveis contando o número de observações que se encaixam nas \"caixas\" discretas (os bins)."
   ]
  },
  {
   "cell_type": "code",
   "execution_count": 28,
   "id": "7480d497",
   "metadata": {},
   "outputs": [
    {
     "data": {
      "image/png": "[encoded data removed]",
      "text/plain": [
       "<Figure size 1080x648 with 3 Axes>"
      ]
     },
     "metadata": {
      "needs_background": "light"
     },
     "output_type": "display_data"
    }
   ],
   "source": [
    "fig, axes = plt.subplots(1, 3, figsize = (15, 9))\n",
    "sns.histplot(ax=axes[0], data = proporcao['mandante'], kde = True, bins = 18)\n",
    "sns.histplot(ax=axes[1], data = proporcao['visitante'], kde = True, bins = 18)\n",
    "sns.histplot(ax=axes[2], data = proporcao['empate'], kde = True, bins = 18)\n",
    "fig.suptitle('Distribuições das proporções', fontsize = 14)\n",
    "sns.despine(left=True)\n",
    "\n",
    "plt.show()"
   ]
  },
  {
   "cell_type": "markdown",
   "id": "4bc9d23f",
   "metadata": {},
   "source": [
    "<h3> Teste t de student <h3>"
   ]
  },
  {
   "cell_type": "markdown",
   "id": "282a53c3",
   "metadata": {},
   "source": [
    "$$\n",
    "H_0:\\:\\mu _1=\\mu _2\n",
    "$$\n",
    "$$\n",
    "H_1:\\:\\mu _1\\ne \\mu _2\n",
    "$$"
   ]
  },
  {
   "cell_type": "code",
   "execution_count": 29,
   "id": "bf83b05c",
   "metadata": {},
   "outputs": [],
   "source": [
    "amostra1 = proporcao[['mandante']].loc[2003:2019]"
   ]
  },
  {
   "cell_type": "code",
   "execution_count": 31,
   "id": "41498d56",
   "metadata": {},
   "outputs": [],
   "source": [
    "teste_t = scipy.stats.ttest_1samp(amostra1, informacao(2020)[0])"
   ]
  },
  {
   "cell_type": "code",
   "execution_count": 32,
   "id": "2f7c0456",
   "metadata": {
    "scrolled": true
   },
   "outputs": [
    {
     "data": {
      "text/plain": [
       "Ttest_1sampResult(statistic=array([7.93972868]), pvalue=array([6.11626591e-07]))"
      ]
     },
     "execution_count": 32,
     "metadata": {},
     "output_type": "execute_result"
    }
   ],
   "source": [
    "teste_t"
   ]
  },
  {
   "cell_type": "code",
   "execution_count": 33,
   "id": "78e735d9",
   "metadata": {},
   "outputs": [
    {
     "name": "stdout",
     "output_type": "stream",
     "text": [
      "Rejeita-se a hipótese nula do teste T, há indícios de que a média seja diferente para o p-valor [6.11626591e-07]\n"
     ]
    }
   ],
   "source": [
    "alfa = 0.05\n",
    "if teste_t[1]<alfa:\n",
    "    print('Rejeita-se a hipótese nula do teste T, há indícios de que a média seja diferente para o p-valor {}'.format(teste_t[1]))\n",
    "else: \n",
    "    print('Aceita-se a hipótese nula do teste T, há indícios de que as médias sejam iguais para o p-valor {}'.format(teste_t[1]))"
   ]
  },
  {
   "cell_type": "markdown",
   "id": "c3cbede4",
   "metadata": {},
   "source": [
    "## Referências"
   ]
  },
  {
   "cell_type": "markdown",
   "id": "75132bcb",
   "metadata": {},
   "source": [
    "<br>Teste de hipóteses (ttest): <br> <http://cmq.esalq.usp.br/wiki/lib/exe/fetch.php?media=publico:syllabvs:lcf5759:proc_ttest-_teste_de_hipoteses.pdf>\n",
    "<br> Teste de Shapiro <br> <http://www.uel.br/projetos/experimental/pages/arquivos/Shapiro.html>\n",
    "<br> Efeito mandante <br> <https://www.nexojornal.com.br/ensaio/2021/A-covid-19-acabou-com-o-%E2%80%98efeito-mandante%E2%80%99-no-Brasileir%C3%A3o#:~:text=Para%20estimar%20o%20efeito%20mandante,para%20ano%2C%20m%C3%AAs%20e%20hor%C3%A1rio>"
   ]
  }
 ],
 "metadata": {
  "kernelspec": {
   "display_name": "Python 3 (ipykernel)",
   "language": "python",
   "name": "python3"
  },
  "language_info": {
   "codemirror_mode": {
    "name": "ipython",
    "version": 3
   },
   "file_extension": ".py",
   "mimetype": "text/x-python",
   "name": "python",
   "nbconvert_exporter": "python",
   "pygments_lexer": "ipython3",
   "version": "3.8.12"
  }
 },
 "nbformat": 4,
 "nbformat_minor": 5
}
